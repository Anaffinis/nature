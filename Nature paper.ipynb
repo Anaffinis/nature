{
 "cells": [
  {
   "cell_type": "code",
   "execution_count": null,
   "metadata": {},
   "outputs": [],
   "source": [
    "# Install the following when running for first time \n",
    "\n",
    "#%%capture\n",
    "#!pip install --upgrade pip\n",
    "#!pip3 install seaborn\n",
    "#!pip install spacy\n",
    "#!pip3 install pyinflect\n",
    "#!pip3 install lemminflect\n",
    "#import lemminflect \n",
    "#!pip install graphviz\n",
    "#!pip install pydotplus\n",
    "#!pip install gensim python-Levenshtein wordcloud\n",
    "#!pip install docx2txt\n",
    "#!pip install gensim\n",
    "#!pip install pyldavis --user\n",
    "#!pip install pyldavis\n",
    "#!pip install scikit-learn"
   ]
  },
  {
   "cell_type": "code",
   "execution_count": 1,
   "metadata": {},
   "outputs": [
    {
     "name": "stderr",
     "output_type": "stream",
     "text": [
      "[nltk_data] Downloading package wordnet to\n",
      "[nltk_data]     C:\\Users\\AI\\AppData\\Roaming\\nltk_data...\n",
      "[nltk_data]   Package wordnet is already up-to-date!\n",
      "[nltk_data] Downloading package stopwords to\n",
      "[nltk_data]     C:\\Users\\AI\\AppData\\Roaming\\nltk_data...\n",
      "[nltk_data]   Package stopwords is already up-to-date!\n",
      "[nltk_data] Downloading package punkt to\n",
      "[nltk_data]     C:\\Users\\AI\\AppData\\Roaming\\nltk_data...\n",
      "[nltk_data]   Package punkt is already up-to-date!\n"
     ]
    },
    {
     "data": {
      "text/plain": [
       "True"
      ]
     },
     "execution_count": 1,
     "metadata": {},
     "output_type": "execute_result"
    }
   ],
   "source": [
    "import pyinflect\n",
    "import spacy\n",
    "import matplotlib.pyplot as plt\n",
    "from spacy import displacy\n",
    "import scipy.stats as stats\n",
    "import numpy as np\n",
    "import os\n",
    "import pandas as pd\n",
    "from pylab import rcParams\n",
    "import re\n",
    "import seaborn as sns\n",
    "import nltk \n",
    "from nltk.corpus import wordnet \n",
    "from absl import logging\n",
    "import tensorflow as tf\n",
    "import tensorflow_hub as hub\n",
    "import numpy as np\n",
    "import pandas as pd\n",
    "import re, nltk, spacy, gensim\n",
    "\n",
    "# Sklearn\n",
    "from sklearn.decomposition import LatentDirichletAllocation, TruncatedSVD\n",
    "from sklearn.feature_extraction.text import CountVectorizer, TfidfVectorizer\n",
    "from sklearn.model_selection import GridSearchCV\n",
    "from pprint import pprint\n",
    "\n",
    "# Plotting tools\n",
    "import pyLDAvis\n",
    "import pyLDAvis.sklearn\n",
    "import matplotlib.pyplot as plt\n",
    "%matplotlib inline\n",
    "from nltk.corpus import stopwords \n",
    "from nltk.stem.wordnet import WordNetLemmatizer\n",
    "import string\n",
    "\n",
    "# import vectorizers\n",
    "from sklearn.feature_extraction.text import TfidfVectorizer, CountVectorizer\n",
    "\n",
    "# import numpy for matrix operation\n",
    "import numpy as np\n",
    "\n",
    "# import LDA from sklearn\n",
    "from sklearn.decomposition import LatentDirichletAllocation\n",
    "\n",
    "import pydotplus\n",
    "nltk.download(['wordnet', 'stopwords', 'punkt'])"
   ]
  },
  {
   "cell_type": "code",
   "execution_count": 2,
   "metadata": {},
   "outputs": [
    {
     "name": "stderr",
     "output_type": "stream",
     "text": [
      "C:\\Users\\AI\\anaconda3\\lib\\site-packages\\ipykernel\\ipkernel.py:287: DeprecationWarning: `should_run_async` will not call `transform_cell` automatically in the future. Please pass the result to `transformed_cell` argument and any exception that happen during thetransform in `preprocessing_exc_tuple` in IPython 7.17 and above.\n",
      "  and should_run_async(code)\n"
     ]
    }
   ],
   "source": [
    "import docx2txt\n",
    "# read in word file\n",
    "doc = docx2txt.process(\"cambridge report.docx\")"
   ]
  },
  {
   "cell_type": "code",
   "execution_count": 3,
   "metadata": {},
   "outputs": [],
   "source": [
    "tk=gensim.utils.simple_preprocess(doc, deacc=True)"
   ]
  },
  {
   "cell_type": "code",
   "execution_count": 4,
   "metadata": {},
   "outputs": [],
   "source": [
    "corpus=tk"
   ]
  },
  {
   "cell_type": "code",
   "execution_count": 5,
   "metadata": {},
   "outputs": [],
   "source": [
    "# Apply Preprocessing on the Corpus\n",
    "\n",
    "# stop loss words \n",
    "stop = set(stopwords.words('english'))\n",
    "\n",
    "# punctuation \n",
    "exclude = set(string.punctuation) \n",
    "\n",
    "# lemmatization\n",
    "lemma = WordNetLemmatizer() \n",
    "\n",
    "# One function for all the steps:\n",
    "def clean(doc):\n",
    "    \n",
    "    # convert text into lower case + split into words\n",
    "    stop_free = \" \".join([i for i in doc.lower().split() if i not in stop])\n",
    "    \n",
    "    # remove any stop words present\n",
    "    punc_free = ''.join(ch for ch in stop_free if ch not in exclude)  \n",
    "    \n",
    "    # remove punctuations + normalize the text\n",
    "    normalized = \" \".join(lemma.lemmatize(word) for word in punc_free.split())  \n",
    "    return normalized\n",
    "\n",
    "# clean data stored in a new list\n",
    "clean_corpus = [clean(doc).split() for doc in corpus]   "
   ]
  },
  {
   "cell_type": "code",
   "execution_count": 22,
   "metadata": {},
   "outputs": [],
   "source": [
    "# Converting text into numerical representation\n",
    "tf_idf_vectorizer = TfidfVectorizer(tokenizer=lambda doc: doc, lowercase=False)\n",
    "\n",
    "# Converting text into numerical representation\n",
    "cv_vectorizer = CountVectorizer(tokenizer=lambda doc: doc, lowercase=False)\n",
    "# Array from TF-IDF Vectorizer \n",
    "tf_idf_arr = tf_idf_vectorizer.fit_transform(clean_corpus)\n",
    "\n",
    "# Array from Count Vectorizer \n",
    "cv_arr = cv_vectorizer.fit_transform(clean_corpus)\n",
    "# this is our converted text to numerical representation from the Tf-IDF vectorizer\n",
    "dtm=cv_arr\n",
    "cv=cv_vectorizer\n",
    "\n",
    "# Creating vocabulary array which will represent all the corpus \n",
    "vocab_tf_idf = tf_idf_vectorizer.get_feature_names()\n",
    "\n",
    "# Creating vocabulary array which will represent all the corpus \n",
    "vocab_tf_idf = tf_idf_vectorizer.get_feature_names()\n",
    "\n",
    "# Creating vocabulary array which will represent all the corpus \n",
    "vocab_cv = cv_vectorizer.get_feature_names()"
   ]
  },
  {
   "cell_type": "code",
   "execution_count": 26,
   "metadata": {},
   "outputs": [],
   "source": [
    "# Implementation of LDA:\n",
    "    \n",
    "# Create object for the LDA class \n",
    "# Inside this class LDA: define the components:\n",
    "lda_model = LatentDirichletAllocation(n_components = 6, max_iter = 20, random_state = 20)\n",
    "\n",
    "lda_output = lda_model.fit_transform(dtm)\n",
    "\n",
    "# fit transform on model on our count_vectorizer : running this will return our topics \n",
    "X_topics = lda_model.fit_transform(tf_idf_arr)\n",
    "\n",
    "# .components_ gives us our topic distribution \n",
    "topic_words = lda_model.components_"
   ]
  },
  {
   "cell_type": "code",
   "execution_count": 27,
   "metadata": {},
   "outputs": [
    {
     "name": "stdout",
     "output_type": "stream",
     "text": [
      "Topic 1 ['muslim' 'hatred' 'legislation' 'incitement']\n",
      "Topic 2 ['offence' 'religion' 'government' 'act']\n",
      "Topic 3 ['community' 'law' 'provision' 'right']\n",
      "Topic 4 ['however' 'criminal' 'could' 'blasphemy']\n",
      "Topic 5 ['christian' 'new' 'ground' 'house']\n",
      "Topic 6 ['religious' 'bill' 'faith' 'would']\n"
     ]
    }
   ],
   "source": [
    "#  Define the number of Words that we want to print in every topic : n_top_words\n",
    "n_top_words = 5\n",
    "\n",
    "for i, topic_dist in enumerate(topic_words):\n",
    "    \n",
    "    # np.argsort to sorting an array or a list or the matrix acc to their values\n",
    "    sorted_topic_dist = np.argsort(topic_dist)\n",
    "    \n",
    "    # Next, to view the actual words present in those indexes we can make the use of the vocab created earlier\n",
    "    topic_words = np.array(vocab_tf_idf)[sorted_topic_dist]\n",
    "    \n",
    "    # so using the sorted_topic_indexes we ar extracting the words from the vocabulary\n",
    "    # obtaining topics + words\n",
    "    # this topic_words variable contains the Topics  as well as the respective words present in those Topics\n",
    "    topic_words = topic_words[:-n_top_words:-1]\n",
    "    print (\"Topic\", str(i+1), topic_words)"
   ]
  },
  {
   "cell_type": "code",
   "execution_count": 28,
   "metadata": {},
   "outputs": [
    {
     "data": {
      "text/html": [
       "\n",
       "<link rel=\"stylesheet\" type=\"text/css\" href=\"https://cdn.jsdelivr.net/gh/bmabey/pyLDAvis@3.3.1/pyLDAvis/js/ldavis.v1.0.0.css\">\n",
       "\n",
       "\n",
       "<div id=\"ldavis_el1258017172886929769943222972\"></div>\n",
       "<script type=\"text/javascript\">\n",
       "\n",
       "var ldavis_el1258017172886929769943222972_data = {\"mdsDat\": {\"x\": [1.4650187492370605, 54.85479736328125, 32.212928771972656, 5.111096382141113, 26.350170135498047, 38.10981750488281], \"y\": [-47.625064849853516, -36.4767951965332, -61.44457244873047, -14.110331535339355, -33.37470245361328, -7.222781181335449], \"topics\": [1, 2, 3, 4, 5, 6], \"cluster\": [1, 1, 1, 1, 1, 1], \"Freq\": [18.819673286352426, 16.8939108527723, 16.57061791209943, 16.03645599359801, 15.92401405152066, 15.755327903657177]}, \"tinfo\": {\"Term\": [\"muslim\", \"religious\", \"community\", \"law\", \"offence\", \"hatred\", \"legislation\", \"incitement\", \"religion\", \"bill\", \"racial\", \"government\", \"group\", \"faith\", \"would\", \"however\", \"british\", \"act\", \"crime\", \"lord\", \"provision\", \"protection\", \"belief\", \"criminal\", \"right\", \"ethnic\", \"aggravated\", \"report\", \"committee\", \"christian\", \"muslim\", \"hatred\", \"legislation\", \"incitement\", \"racial\", \"group\", \"british\", \"protection\", \"ethnic\", \"consortium\", \"public\", \"disorder\", \"definition\", \"minority\", \"therefore\", \"particularly\", \"change\", \"council\", \"concern\", \"freedom\", \"significant\", \"introduced\", \"recommendation\", \"argument\", \"amendment\", \"whole\", \"many\", \"others\", \"legal\", \"include\", \"offence\", \"religion\", \"government\", \"act\", \"crime\", \"lord\", \"belief\", \"report\", \"committee\", \"evidence\", \"multi\", \"anomaly\", \"harassment\", \"police\", \"issue\", \"mp\", \"result\", \"even\", \"adherent\", \"legislative\", \"gap\", \"still\", \"discussion\", \"abusive\", \"defined\", \"religiously\", \"term\", \"criticism\", \"make\", \"court\", \"community\", \"law\", \"provision\", \"right\", \"home\", \"enforcement\", \"likely\", \"protected\", \"fair\", \"agency\", \"islamophobia\", \"art\", \"possible\", \"relation\", \"risk\", \"common\", \"extended\", \"expression\", \"thus\", \"one\", \"anglican\", \"european\", \"sought\", \"opposition\", \"well\", \"national\", \"different\", \"demand\", \"research\", \"lester\", \"christian\", \"new\", \"ground\", \"house\", \"race\", \"support\", \"time\", \"briefing\", \"mcb\", \"whilst\", \"speech\", \"human\", \"including\", \"avebury\", \"word\", \"office\", \"parliament\", \"justice\", \"discrimination\", \"proposed\", \"racism\", \"concerned\", \"atcsb\", \"argued\", \"free\", \"mentioned\", \"additional\", \"abuse\", \"real\", \"based\", \"religious\", \"bill\", \"faith\", \"would\", \"aggravated\", \"need\", \"britain\", \"organisation\", \"racially\", \"suggested\", \"like\", \"existing\", \"bnp\", \"sikh\", \"jew\", \"protect\", \"international\", \"church\", \"anti\", \"paper\", \"made\", \"stir\", \"within\", \"way\", \"europe\", \"campaign\", \"state\", \"body\", \"exercise\", \"seek\", \"however\", \"criminal\", \"could\", \"blasphemy\", \"violence\", \"also\", \"proposal\", \"select\", \"key\", \"case\", \"far\", \"extension\", \"society\", \"towards\", \"system\", \"first\", \"uk\", \"response\", \"election\", \"strong\", \"bring\", \"safeguard\", \"mono\", \"eg\", \"framework\", \"motivated\", \"order\", \"insulting\", \"general\", \"publication\"], \"Freq\": [60.0, 53.0, 38.0, 35.0, 33.0, 33.0, 32.0, 30.0, 21.0, 19.0, 21.0, 19.0, 21.0, 18.0, 17.0, 15.0, 17.0, 16.0, 15.0, 15.0, 14.0, 16.0, 13.0, 12.0, 13.0, 14.0, 12.0, 12.0, 12.0, 11.0, 60.367780623976934, 33.04463710856324, 31.643450258704924, 29.54166998282323, 21.13454885867441, 20.433955429345144, 16.930988273308312, 15.529801404903242, 13.428021092463558, 8.523866937576237, 7.823273465539919, 6.422086487298692, 5.721492972349315, 5.721492972348187, 5.72149297234755, 5.7214929723473835, 5.020899430076155, 5.020899430075894, 5.020899430075705, 5.020899430075376, 5.020899430075353, 4.320305846403272, 4.3203058464027135, 4.320305846402629, 4.320305846402542, 4.320305846402247, 4.320305846401451, 3.6197121956014344, 3.619712195599076, 3.6197121955985168, 32.42575152692913, 20.679058002134568, 19.21072130513765, 15.539879549547614, 14.805711195277166, 14.805711195277148, 13.337374482167013, 11.869037761037122, 11.869037761037092, 8.19819589390449, 7.464027500462055, 5.995690673067436, 5.995690673066994, 5.261522227229018, 5.26152222722867, 5.261522227228414, 4.5273537452416, 4.527353745240325, 4.5273537452402675, 4.5273537452397274, 3.793185204637578, 3.7931852046372367, 3.7931852046357104, 3.793185204635605, 3.7931852046354995, 3.793185204634872, 3.7931852046347627, 3.793185204634718, 3.7931852046344483, 3.793185204633728, 37.91133606149157, 34.94758211224966, 14.201304358404572, 12.719427353885148, 8.273796263728878, 7.532857727283045, 7.5328577272828925, 7.532857727282883, 6.791919179160045, 6.050980614879469, 6.050980614879137, 6.050980614879071, 6.0509806148788945, 6.050980614878734, 5.31004202733091, 5.310042027330697, 5.3100420273306534, 5.310042027330435, 5.310042027330072, 5.310042027330034, 5.310042027329842, 5.310042027329491, 5.310042027329479, 4.569103404523927, 4.56910340452294, 4.569103404522896, 3.828164724550803, 3.828164724547263, 3.8281647245466117, 3.8281647245461192, 10.667841790474426, 10.667841790474313, 10.667841790474299, 9.914816504615322, 9.91481650461519, 9.161791213753633, 7.655740610904426, 7.65574061090435, 6.902715294122081, 6.90271529412187, 6.902715294121739, 6.149689961860727, 6.149689961860448, 6.149689961860088, 5.396664607310226, 5.39666460731016, 5.39666460731016, 5.396664607310129, 5.396664607309645, 5.396664607309628, 5.396664607309478, 4.643639218983986, 4.643639218983563, 4.643639218983519, 3.890613775892307, 3.8906137758921875, 3.8906137758920365, 3.8906137758919446, 3.8906137758908232, 3.890613775890503, 53.02673738159892, 19.019080967253405, 17.50762955875259, 16.751903853244446, 11.461823875350504, 9.194646701257174, 7.683195221689154, 6.927469466689344, 5.416017903939212, 5.416017903938618, 5.41601790393856, 4.660292078060551, 4.660292078060533, 4.660292078060498, 4.660292078060147, 4.66029207806, 3.904566197925126, 3.9045661979247526, 3.904566197924455, 3.9045661979238857, 3.1488402210786934, 3.1488402210708655, 3.1488402210677116, 3.1488402210675517, 3.148840221067024, 3.148840221065989, 3.1488402210656954, 3.148840221065356, 2.393114045469079, 2.393114045469079, 15.324367564080047, 12.28482044013106, 10.005160070456048, 9.245273272028493, 8.48538646735876, 6.96561283079232, 6.96561283079226, 6.965612830791847, 6.965612830791808, 6.2057259919270935, 6.205725991927078, 6.205725991926895, 5.445839131291509, 5.445839131291148, 5.4458391312911285, 5.445839131290561, 5.445839131290326, 4.685952237665309, 4.685952237665099, 4.6859522376647, 4.685952237664582, 4.685952237664364, 4.685952237664045, 3.9260652905449813, 3.9260652905446776, 3.926065290544268, 3.926065290544255, 3.926065290543468, 3.926065290542205, 3.166178248071577], \"Total\": [60.0, 53.0, 38.0, 35.0, 33.0, 33.0, 32.0, 30.0, 21.0, 19.0, 21.0, 19.0, 21.0, 18.0, 17.0, 15.0, 17.0, 16.0, 15.0, 15.0, 14.0, 16.0, 13.0, 12.0, 13.0, 14.0, 12.0, 12.0, 12.0, 11.0, 60.99175860757142, 33.66861515854035, 32.267428315202146, 30.16564805027064, 21.758526991973127, 21.05793357060881, 17.554966464437754, 16.153779622384278, 14.051999359985121, 9.147845420796461, 8.447252002390444, 7.046065167945254, 6.345471752511798, 6.345471752511882, 6.345471752511924, 6.345471752511934, 5.6448783389710515, 5.6448783389710675, 5.644878338971081, 5.644878338971104, 5.644878338971106, 4.944284928298036, 4.944284928298082, 4.94428492829808, 4.944284928298093, 4.944284928298106, 4.944284928298164, 4.243691522274998, 4.243691522275165, 4.243691522275203, 33.04413021053476, 21.297436760069726, 19.82910007884706, 16.158258375965303, 15.424090035431067, 15.42409003543107, 13.955753354423619, 12.487416673523288, 12.487416673523287, 8.816574972131429, 8.082406632120415, 6.614069952639485, 6.614069952639494, 5.879901613328343, 5.879901613328351, 5.8799016133283555, 5.145733274500062, 5.145733274500076, 5.14573327450008, 5.1457332745000945, 4.411564936454725, 4.411564936454735, 4.411564936454764, 4.41156493645477, 4.411564936454752, 4.411564936454779, 4.411564936454784, 4.411564936454773, 4.411564936454788, 4.4115649364547975, 38.52858576846062, 35.56483182839951, 14.818554248227686, 13.336677278267194, 8.891046368565188, 8.150107883665038, 8.15010788366504, 8.150107883665044, 7.409169398792255, 6.668230913957324, 6.668230913957332, 6.668230913957323, 6.668230913957326, 6.668230913957329, 5.927292429176919, 5.927292429176915, 5.927292429176918, 5.927292429176923, 5.927292429176919, 5.927292429176923, 5.927292429176925, 5.927292429176927, 5.927292429176923, 5.186353944479126, 5.186353944479136, 5.1863539444791344, 4.4454154599152735, 4.44541545991529, 4.445415459915302, 4.445415459915305, 11.28307630837239, 11.283076308372387, 11.283076308372388, 10.530051051532844, 10.530051051532842, 9.77702579460759, 8.270975280395174, 8.27097528039517, 7.517950023025864, 7.517950023025857, 7.517950023025861, 6.764924765391371, 6.764924765391372, 6.764924765391366, 6.0118995073750385, 6.011899507375037, 6.0118995073750385, 6.011899507375034, 6.01189950737503, 6.011899507375029, 6.011899507375026, 5.258874248780077, 5.258874248780072, 5.258874248780069, 4.505848989246892, 4.50584898924691, 4.505848989246907, 4.505848989246897, 4.505848989246886, 4.50584898924688, 53.6415213179994, 19.633865035091514, 18.122413644476037, 17.366687949141312, 12.076608080954436, 9.809430993715342, 8.297979601575367, 7.542253905178984, 6.030802511254644, 6.030802511254632, 6.0308025112546275, 5.275076813337813, 5.275076813337815, 5.275076813337816, 5.275076813337804, 5.275076813337803, 4.519351114257116, 4.519351114257109, 4.5193511142570975, 4.519351114257084, 3.7636254131018183, 3.7636254131016798, 3.763625413101627, 3.7636254131016127, 3.763625413101616, 3.7636254131015803, 3.763625413101598, 3.763625413101577, 3.0078997076828387, 3.0078997076828387, 15.938457851964488, 12.898910791326253, 10.61925049509729, 9.85936372944789, 9.099476963623172, 7.579703431209018, 7.579703431209017, 7.57970343120901, 7.579703431209008, 6.819816664423868, 6.819816664423866, 6.819816664423859, 6.05992989702726, 6.0599298970272475, 6.059929897027247, 6.059929897027235, 6.059929897027225, 5.3000431287040595, 5.300043128704054, 5.300043128704044, 5.300043128704041, 5.300043128704035, 5.300043128704029, 4.540156358878399, 4.540156358878398, 4.540156358878386, 4.540156358878383, 4.540156358878374, 4.540156358878337, 3.7802695863746067], \"Category\": [\"Default\", \"Default\", \"Default\", \"Default\", \"Default\", \"Default\", \"Default\", \"Default\", \"Default\", \"Default\", \"Default\", \"Default\", \"Default\", \"Default\", \"Default\", \"Default\", \"Default\", \"Default\", \"Default\", \"Default\", \"Default\", \"Default\", \"Default\", \"Default\", \"Default\", \"Default\", \"Default\", \"Default\", \"Default\", \"Default\", \"Topic1\", \"Topic1\", \"Topic1\", \"Topic1\", \"Topic1\", \"Topic1\", \"Topic1\", \"Topic1\", \"Topic1\", \"Topic1\", \"Topic1\", \"Topic1\", \"Topic1\", \"Topic1\", \"Topic1\", \"Topic1\", \"Topic1\", \"Topic1\", \"Topic1\", \"Topic1\", \"Topic1\", \"Topic1\", \"Topic1\", \"Topic1\", \"Topic1\", \"Topic1\", \"Topic1\", \"Topic1\", \"Topic1\", \"Topic1\", \"Topic2\", \"Topic2\", \"Topic2\", \"Topic2\", \"Topic2\", \"Topic2\", \"Topic2\", \"Topic2\", \"Topic2\", \"Topic2\", \"Topic2\", \"Topic2\", \"Topic2\", \"Topic2\", \"Topic2\", \"Topic2\", \"Topic2\", \"Topic2\", \"Topic2\", \"Topic2\", \"Topic2\", \"Topic2\", \"Topic2\", \"Topic2\", \"Topic2\", \"Topic2\", \"Topic2\", \"Topic2\", \"Topic2\", \"Topic2\", \"Topic3\", \"Topic3\", \"Topic3\", \"Topic3\", \"Topic3\", \"Topic3\", \"Topic3\", \"Topic3\", \"Topic3\", \"Topic3\", \"Topic3\", \"Topic3\", \"Topic3\", \"Topic3\", \"Topic3\", \"Topic3\", \"Topic3\", \"Topic3\", \"Topic3\", \"Topic3\", \"Topic3\", \"Topic3\", \"Topic3\", \"Topic3\", \"Topic3\", \"Topic3\", \"Topic3\", \"Topic3\", \"Topic3\", \"Topic3\", \"Topic4\", \"Topic4\", \"Topic4\", \"Topic4\", \"Topic4\", \"Topic4\", \"Topic4\", \"Topic4\", \"Topic4\", \"Topic4\", \"Topic4\", \"Topic4\", \"Topic4\", \"Topic4\", \"Topic4\", \"Topic4\", \"Topic4\", \"Topic4\", \"Topic4\", \"Topic4\", \"Topic4\", \"Topic4\", \"Topic4\", \"Topic4\", \"Topic4\", \"Topic4\", \"Topic4\", \"Topic4\", \"Topic4\", \"Topic4\", \"Topic5\", \"Topic5\", \"Topic5\", \"Topic5\", \"Topic5\", \"Topic5\", \"Topic5\", \"Topic5\", \"Topic5\", \"Topic5\", \"Topic5\", \"Topic5\", \"Topic5\", \"Topic5\", \"Topic5\", \"Topic5\", \"Topic5\", \"Topic5\", \"Topic5\", \"Topic5\", \"Topic5\", \"Topic5\", \"Topic5\", \"Topic5\", \"Topic5\", \"Topic5\", \"Topic5\", \"Topic5\", \"Topic5\", \"Topic5\", \"Topic6\", \"Topic6\", \"Topic6\", \"Topic6\", \"Topic6\", \"Topic6\", \"Topic6\", \"Topic6\", \"Topic6\", \"Topic6\", \"Topic6\", \"Topic6\", \"Topic6\", \"Topic6\", \"Topic6\", \"Topic6\", \"Topic6\", \"Topic6\", \"Topic6\", \"Topic6\", \"Topic6\", \"Topic6\", \"Topic6\", \"Topic6\", \"Topic6\", \"Topic6\", \"Topic6\", \"Topic6\", \"Topic6\", \"Topic6\"], \"logprob\": [30.0, 29.0, 28.0, 27.0, 26.0, 25.0, 24.0, 23.0, 22.0, 21.0, 20.0, 19.0, 18.0, 17.0, 16.0, 15.0, 14.0, 13.0, 12.0, 11.0, 10.0, 9.0, 8.0, 7.0, 6.0, 5.0, 4.0, 3.0, 2.0, 1.0, -2.4059, -3.0085, -3.0519, -3.1206, -3.4555, -3.4892, -3.6773, -3.7636, -3.9091, -4.3635, -4.4493, -4.6467, -4.7622, -4.7622, -4.7622, -4.7622, -4.8928, -4.8928, -4.8928, -4.8928, -4.8928, -5.0431, -5.0431, -5.0431, -5.0431, -5.0431, -5.0431, -5.22, -5.22, -5.22, -2.9195, -3.3693, -3.443, -3.655, -3.7034, -3.7034, -3.8079, -3.9245, -3.9245, -4.2945, -4.3884, -4.6074, -4.6074, -4.738, -4.738, -4.738, -4.8883, -4.8883, -4.8883, -4.8883, -5.0652, -5.0652, -5.0652, -5.0652, -5.0652, -5.0652, -5.0652, -5.0652, -5.0652, -5.0652, -2.7439, -2.8253, -3.7258, -3.836, -4.266, -4.3599, -4.3599, -4.3599, -4.4634, -4.5789, -4.5789, -4.5789, -4.5789, -4.5789, -4.7095, -4.7095, -4.7095, -4.7095, -4.7095, -4.7095, -4.7095, -4.7095, -4.7095, -4.8598, -4.8598, -4.8598, -5.0367, -5.0367, -5.0367, -5.0367, -3.9791, -3.9791, -3.9791, -4.0523, -4.0523, -4.1313, -4.3109, -4.3109, -4.4145, -4.4145, -4.4145, -4.53, -4.53, -4.53, -4.6606, -4.6606, -4.6606, -4.6606, -4.6606, -4.6606, -4.6606, -4.8109, -4.8109, -4.8109, -4.9878, -4.9878, -4.9878, -4.9878, -4.9878, -4.9878, -2.3685, -3.3939, -3.4767, -3.5208, -3.9003, -4.1207, -4.3003, -4.4038, -4.65, -4.65, -4.65, -4.8003, -4.8003, -4.8003, -4.8003, -4.8003, -4.9772, -4.9772, -4.9772, -4.9772, -5.1923, -5.1923, -5.1923, -5.1923, -5.1923, -5.1923, -5.1923, -5.1923, -5.4667, -5.4667, -3.5992, -3.8203, -4.0256, -4.1046, -4.1903, -4.3877, -4.3877, -4.3877, -4.3877, -4.5032, -4.5032, -4.5032, -4.6338, -4.6338, -4.6338, -4.6338, -4.6338, -4.7841, -4.7841, -4.7841, -4.7841, -4.7841, -4.7841, -4.961, -4.961, -4.961, -4.961, -4.961, -4.961, -5.1762], \"loglift\": [30.0, 29.0, 28.0, 27.0, 26.0, 25.0, 24.0, 23.0, 22.0, 21.0, 20.0, 19.0, 18.0, 17.0, 16.0, 15.0, 14.0, 13.0, 12.0, 11.0, 10.0, 9.0, 8.0, 7.0, 6.0, 5.0, 4.0, 3.0, 2.0, 1.0, 1.66, 1.6516, 1.6507, 1.6494, 1.6412, 1.6402, 1.6341, 1.6309, 1.6248, 1.5996, 1.5935, 1.5775, 1.5668, 1.5668, 1.5668, 1.5668, 1.5531, 1.5531, 1.5531, 1.5531, 1.5531, 1.5354, 1.5354, 1.5354, 1.5354, 1.5354, 1.5354, 1.5112, 1.5112, 1.5112, 1.7593, 1.7488, 1.7465, 1.7392, 1.7373, 1.7373, 1.7329, 1.7274, 1.7274, 1.7055, 1.6986, 1.6801, 1.6801, 1.6671, 1.6671, 1.6671, 1.6502, 1.6502, 1.6502, 1.6502, 1.6272, 1.6272, 1.6272, 1.6272, 1.6272, 1.6272, 1.6272, 1.6272, 1.6272, 1.6272, 1.7814, 1.78, 1.755, 1.7502, 1.7256, 1.7188, 1.7188, 1.7188, 1.7106, 1.7004, 1.7004, 1.7004, 1.7004, 1.7004, 1.6876, 1.6876, 1.6876, 1.6876, 1.6876, 1.6876, 1.6876, 1.6876, 1.6876, 1.6708, 1.6708, 1.6708, 1.6481, 1.6481, 1.6481, 1.6481, 1.7742, 1.7742, 1.7742, 1.7701, 1.7701, 1.7653, 1.753, 1.753, 1.7449, 1.7449, 1.7449, 1.735, 1.735, 1.735, 1.7223, 1.7223, 1.7223, 1.7223, 1.7223, 1.7223, 1.7223, 1.7059, 1.7059, 1.7059, 1.6835, 1.6835, 1.6835, 1.6835, 1.6835, 1.6835, 1.8258, 1.8055, 1.8028, 1.8013, 1.7851, 1.7726, 1.7604, 1.7523, 1.7298, 1.7298, 1.7298, 1.7134, 1.7134, 1.7134, 1.7134, 1.7134, 1.6911, 1.6911, 1.6911, 1.6911, 1.659, 1.659, 1.659, 1.659, 1.659, 1.659, 1.659, 1.659, 1.6087, 1.6087, 1.8087, 1.7992, 1.7884, 1.7837, 1.7781, 1.7635, 1.7635, 1.7635, 1.7635, 1.7536, 1.7536, 1.7536, 1.7411, 1.7411, 1.7411, 1.7411, 1.7411, 1.7248, 1.7248, 1.7248, 1.7248, 1.7248, 1.7248, 1.7027, 1.7027, 1.7027, 1.7027, 1.7027, 1.7027, 1.6707]}, \"token.table\": {\"Topic\": [4, 2, 2, 4, 2, 3, 5, 6, 1, 3, 2, 5, 4, 1, 3, 4, 4, 4, 2, 5, 6, 5, 5, 4, 6, 5, 1, 5, 6, 1, 4, 5, 2, 3, 3, 1, 4, 1, 6, 1, 2, 2, 6, 2, 2, 1, 3, 3, 4, 2, 1, 6, 6, 3, 1, 5, 3, 2, 2, 5, 5, 3, 3, 6, 3, 5, 6, 6, 6, 4, 1, 2, 6, 2, 4, 1, 2, 1, 3, 4, 6, 4, 1, 1, 4, 6, 5, 1, 3, 2, 5, 4, 6, 3, 1, 1, 2, 3, 5, 3, 2, 5, 2, 1, 4, 4, 1, 6, 6, 2, 2, 1, 3, 5, 4, 2, 4, 3, 3, 6, 5, 1, 5, 4, 1, 2, 3, 6, 4, 5, 3, 1, 3, 1, 6, 4, 1, 5, 4, 4, 1, 3, 2, 5, 2, 2, 3, 6, 2, 3, 3, 6, 5, 6, 1, 5, 6, 3, 4, 5, 2, 5, 6, 5, 4, 6, 2, 1, 3, 4, 6, 6, 6, 5, 3, 4, 1, 5, 4, 5], \"Freq\": [0.8877350327420883, 0.9067077233627864, 0.99020572809996, 0.8877350327420864, 0.971678812964856, 0.899788876153247, 0.910851782740858, 0.923518982441698, 0.8090148642337383, 0.8435554782800398, 0.9071570217677501, 0.8850828136325342, 0.9507738279081076, 0.8090148642337404, 0.8997888761532472, 0.9507738279081072, 0.8869278237498457, 0.8877350327420916, 0.9315154595992721, 0.9677157282094682, 0.9128378105291777, 0.947853496153403, 0.7971037684985024, 0.9672378079719973, 0.9433885495989526, 0.9640901019425505, 0.9683869254001717, 0.7971037684985017, 0.8797890464269357, 0.885758682429177, 0.974911424806873, 0.8850828136325318, 0.9609673732953316, 0.8435554782800413, 0.9862806859395986, 0.8857586824291724, 0.9507738279081062, 0.9838382248501539, 0.9416860450383775, 0.8857586824291745, 0.9067077233627807, 0.9725046965845713, 0.9303111087541812, 0.9067077233627858, 0.90670772336279, 0.9455561751771969, 0.899803412317332, 0.8998034123173354, 0.8316838952258444, 0.9067077233627877, 0.8515391011845689, 0.8810269259070542, 0.9433885495989502, 0.981582098567567, 0.9251352542058303, 0.7971037684984942, 0.8435554782800395, 0.9716788129648569, 0.9073818376509513, 0.6649157865508478, 0.9478534961534033, 0.8435554782800401, 0.8435554782800408, 0.8797890464269368, 0.9447752674059589, 0.9932451798707647, 0.879789046426936, 0.825092053037248, 0.8810269259070544, 0.8877350327420894, 0.8857586824291688, 0.9067077233627957, 0.8810269259070661, 0.9581877102061979, 0.9749114248068732, 0.9497608078655259, 0.9071570217677489, 0.9801412931481754, 0.8997816081900625, 0.9496630121792539, 0.9411199087966456, 0.886927823749845, 0.9945087189907345, 0.9425755804831567, 0.8869278237498449, 0.881026925907059, 0.8850828136325305, 0.8090148642337476, 0.8997888761532459, 0.8503543645468793, 0.9478534961534051, 0.8316838952258438, 0.9235189824416993, 0.984118248298633, 0.9425755804831649, 0.9917121280137422, 0.9716788129648534, 0.8998034123173291, 0.8290770574345697, 0.9815820985675667, 0.9725046965845712, 0.7971037684984513, 0.9067077233627827, 0.8090148642337266, 0.931104886113968, 0.8877350327420859, 0.9455561751771844, 0.9433885495989547, 0.8810269259070567, 0.8503543645468786, 0.8660786716893448, 0.9837394652947701, 0.9640684098165904, 0.9174844092145688, 0.9749114248068733, 0.9684019460072857, 0.8316838952258435, 0.8435554782800401, 0.964068409816592, 0.8810269259070573, 0.9281045279042331, 0.9425755804832022, 0.8850828136325367, 0.8316838952258432, 0.9455561751771765, 0.8503543645468804, 0.8997888761532468, 0.9235189824416982, 0.8316838952258445, 0.9478534961534052, 0.9815820985675663, 0.9904802698824005, 0.9447615310835342, 0.9470535504014941, 0.7935941951899497, 0.949663012179254, 0.9651388629270284, 0.8290770574345674, 0.831683895225845, 0.8877350327420906, 0.8090148642337401, 0.8997888761532464, 0.9860341522118105, 0.9880405830737665, 0.9067077233627846, 0.9609673732953314, 0.8998034123173296, 0.9433885495989492, 0.9716788129648596, 0.9747555353374392, 0.8435554782800406, 0.9433885495989537, 0.6649157865508478, 0.923518982441699, 0.8857586824291686, 0.9478534961534028, 0.8250920530372445, 0.8435554782800401, 0.9311048861139684, 0.797103768498498, 0.9067077233627935, 0.7971037684984806, 0.943388549598952, 0.829077057434569, 0.920525340637216, 0.8250920530372464, 0.9067077233627835, 0.9455561751771782, 0.8435554782800406, 0.9672378079719969, 0.8250920530372463, 0.8250920530372493, 0.8791714108383886, 0.7971037684984948, 0.96406840981659, 0.9311048861139689, 0.8090148642337361, 0.7971037684984918, 0.8316838952258432, 0.9788855566349114], \"Term\": [\"abuse\", \"abusive\", \"act\", \"additional\", \"adherent\", \"agency\", \"aggravated\", \"also\", \"amendment\", \"anglican\", \"anomaly\", \"anti\", \"argued\", \"argument\", \"art\", \"atcsb\", \"avebury\", \"based\", \"belief\", \"bill\", \"blasphemy\", \"bnp\", \"body\", \"briefing\", \"bring\", \"britain\", \"british\", \"campaign\", \"case\", \"change\", \"christian\", \"church\", \"committee\", \"common\", \"community\", \"concern\", \"concerned\", \"consortium\", \"could\", \"council\", \"court\", \"crime\", \"criminal\", \"criticism\", \"defined\", \"definition\", \"demand\", \"different\", \"discrimination\", \"discussion\", \"disorder\", \"eg\", \"election\", \"enforcement\", \"ethnic\", \"europe\", \"european\", \"even\", \"evidence\", \"exercise\", \"existing\", \"expression\", \"extended\", \"extension\", \"fair\", \"faith\", \"far\", \"first\", \"framework\", \"free\", \"freedom\", \"gap\", \"general\", \"government\", \"ground\", \"group\", \"harassment\", \"hatred\", \"home\", \"house\", \"however\", \"human\", \"incitement\", \"include\", \"including\", \"insulting\", \"international\", \"introduced\", \"islamophobia\", \"issue\", \"jew\", \"justice\", \"key\", \"law\", \"legal\", \"legislation\", \"legislative\", \"lester\", \"like\", \"likely\", \"lord\", \"made\", \"make\", \"many\", \"mcb\", \"mentioned\", \"minority\", \"mono\", \"motivated\", \"mp\", \"multi\", \"muslim\", \"national\", \"need\", \"new\", \"offence\", \"office\", \"one\", \"opposition\", \"order\", \"organisation\", \"others\", \"paper\", \"parliament\", \"particularly\", \"police\", \"possible\", \"proposal\", \"proposed\", \"protect\", \"protected\", \"protection\", \"provision\", \"public\", \"publication\", \"race\", \"racial\", \"racially\", \"racism\", \"real\", \"recommendation\", \"relation\", \"religion\", \"religious\", \"religiously\", \"report\", \"research\", \"response\", \"result\", \"right\", \"risk\", \"safeguard\", \"seek\", \"select\", \"significant\", \"sikh\", \"society\", \"sought\", \"speech\", \"state\", \"still\", \"stir\", \"strong\", \"suggested\", \"support\", \"system\", \"term\", \"therefore\", \"thus\", \"time\", \"towards\", \"uk\", \"violence\", \"way\", \"well\", \"whilst\", \"whole\", \"within\", \"word\", \"would\"]}, \"R\": 30, \"lambda.step\": 0.01, \"plot.opts\": {\"xlab\": \"PC1\", \"ylab\": \"PC2\"}, \"topic.order\": [1, 2, 3, 5, 6, 4]};\n",
       "\n",
       "function LDAvis_load_lib(url, callback){\n",
       "  var s = document.createElement('script');\n",
       "  s.src = url;\n",
       "  s.async = true;\n",
       "  s.onreadystatechange = s.onload = callback;\n",
       "  s.onerror = function(){console.warn(\"failed to load library \" + url);};\n",
       "  document.getElementsByTagName(\"head\")[0].appendChild(s);\n",
       "}\n",
       "\n",
       "if(typeof(LDAvis) !== \"undefined\"){\n",
       "   // already loaded: just create the visualization\n",
       "   !function(LDAvis){\n",
       "       new LDAvis(\"#\" + \"ldavis_el1258017172886929769943222972\", ldavis_el1258017172886929769943222972_data);\n",
       "   }(LDAvis);\n",
       "}else if(typeof define === \"function\" && define.amd){\n",
       "   // require.js is available: use it to load d3/LDAvis\n",
       "   require.config({paths: {d3: \"https://d3js.org/d3.v5\"}});\n",
       "   require([\"d3\"], function(d3){\n",
       "      window.d3 = d3;\n",
       "      LDAvis_load_lib(\"https://cdn.jsdelivr.net/gh/bmabey/pyLDAvis@3.3.1/pyLDAvis/js/ldavis.v3.0.0.js\", function(){\n",
       "        new LDAvis(\"#\" + \"ldavis_el1258017172886929769943222972\", ldavis_el1258017172886929769943222972_data);\n",
       "      });\n",
       "    });\n",
       "}else{\n",
       "    // require.js not available: dynamically load d3 & LDAvis\n",
       "    LDAvis_load_lib(\"https://d3js.org/d3.v5.js\", function(){\n",
       "         LDAvis_load_lib(\"https://cdn.jsdelivr.net/gh/bmabey/pyLDAvis@3.3.1/pyLDAvis/js/ldavis.v3.0.0.js\", function(){\n",
       "                 new LDAvis(\"#\" + \"ldavis_el1258017172886929769943222972\", ldavis_el1258017172886929769943222972_data);\n",
       "            })\n",
       "         });\n",
       "}\n",
       "</script>"
      ],
      "text/plain": [
       "PreparedData(topic_coordinates=               x          y  topics  cluster       Freq\n",
       "topic                                                  \n",
       "0       1.465019 -47.625065       1        1  18.819673\n",
       "1      54.854797 -36.476795       2        1  16.893911\n",
       "2      32.212929 -61.444572       3        1  16.570618\n",
       "4       5.111096 -14.110332       4        1  16.036456\n",
       "5      26.350170 -33.374702       5        1  15.924014\n",
       "3      38.109818  -7.222781       6        1  15.755328, topic_info=            Term       Freq      Total Category  logprob  loglift\n",
       "752       muslim  60.000000  60.000000  Default  30.0000  30.0000\n",
       "963    religious  53.000000  53.000000  Default  29.0000  29.0000\n",
       "220    community  38.000000  38.000000  Default  28.0000  28.0000\n",
       "650          law  35.000000  35.000000  Default  27.0000  27.0000\n",
       "790      offence  33.000000  33.000000  Default  26.0000  26.0000\n",
       "..           ...        ...        ...      ...      ...      ...\n",
       "747    motivated   3.926065   4.540156   Topic6  -4.9610   1.7027\n",
       "809        order   3.926065   4.540156   Topic6  -4.9610   1.7027\n",
       "593    insulting   3.926065   4.540156   Topic6  -4.9610   1.7027\n",
       "500      general   3.926065   4.540156   Topic6  -4.9610   1.7027\n",
       "912  publication   3.166178   3.780270   Topic6  -5.1762   1.6707\n",
       "\n",
       "[210 rows x 6 columns], token_table=      Topic      Freq        Term\n",
       "term                             \n",
       "5         4  0.887735       abuse\n",
       "7         2  0.906708     abusive\n",
       "18        2  0.990206         act\n",
       "25        4  0.887735  additional\n",
       "30        2  0.971679    adherent\n",
       "...     ...       ...         ...\n",
       "1236      4  0.931105      whilst\n",
       "1237      1  0.809015       whole\n",
       "1243      5  0.797104      within\n",
       "1245      4  0.831684        word\n",
       "1251      5  0.978886       would\n",
       "\n",
       "[180 rows x 3 columns], R=30, lambda_step=0.01, plot_opts={'xlab': 'PC1', 'ylab': 'PC2'}, topic_order=[1, 2, 3, 5, 6, 4])"
      ]
     },
     "execution_count": 28,
     "metadata": {},
     "output_type": "execute_result"
    }
   ],
   "source": [
    "pyLDAvis.enable_notebook()\n",
    "panel = pyLDAvis.sklearn.prepare(lda_model, dtm, cv, mds='tsne')\n",
    "panel"
   ]
  },
  {
   "cell_type": "code",
   "execution_count": 29,
   "metadata": {},
   "outputs": [
    {
     "data": {
      "text/html": [
       "\n",
       "<link rel=\"stylesheet\" type=\"text/css\" href=\"https://cdn.jsdelivr.net/gh/bmabey/pyLDAvis@3.3.1/pyLDAvis/js/ldavis.v1.0.0.css\">\n",
       "\n",
       "\n",
       "<div id=\"ldavis_el1258017172977284163971714840\"></div>\n",
       "<script type=\"text/javascript\">\n",
       "\n",
       "var ldavis_el1258017172977284163971714840_data = {\"mdsDat\": {\"x\": [0.11111768465082308, -0.08200702597566656, -0.26237174613779507, -0.15881132384669633, 0.1829841670533773, 0.2090882442559575], \"y\": [0.28417377810005073, -0.2515269440444877, -0.05078455691980828, 0.17802864185434655, -0.1939961900239407, 0.03410527103383938], \"topics\": [1, 2, 3, 4, 5, 6], \"cluster\": [1, 1, 1, 1, 1, 1], \"Freq\": [18.819673286352426, 16.8939108527723, 16.57061791209943, 16.03645599359801, 15.92401405152066, 15.755327903657177]}, \"tinfo\": {\"Term\": [\"muslim\", \"religious\", \"community\", \"law\", \"offence\", \"hatred\", \"legislation\", \"incitement\", \"religion\", \"bill\", \"racial\", \"government\", \"group\", \"faith\", \"would\", \"however\", \"british\", \"act\", \"crime\", \"lord\", \"provision\", \"protection\", \"belief\", \"criminal\", \"right\", \"ethnic\", \"aggravated\", \"report\", \"committee\", \"christian\", \"muslim\", \"hatred\", \"legislation\", \"incitement\", \"racial\", \"group\", \"british\", \"protection\", \"ethnic\", \"consortium\", \"public\", \"disorder\", \"definition\", \"minority\", \"therefore\", \"particularly\", \"change\", \"council\", \"concern\", \"freedom\", \"significant\", \"introduced\", \"recommendation\", \"argument\", \"amendment\", \"whole\", \"many\", \"others\", \"legal\", \"include\", \"offence\", \"religion\", \"government\", \"act\", \"crime\", \"lord\", \"belief\", \"report\", \"committee\", \"evidence\", \"multi\", \"anomaly\", \"harassment\", \"police\", \"issue\", \"mp\", \"result\", \"even\", \"adherent\", \"legislative\", \"gap\", \"still\", \"discussion\", \"abusive\", \"defined\", \"religiously\", \"term\", \"criticism\", \"make\", \"court\", \"community\", \"law\", \"provision\", \"right\", \"home\", \"enforcement\", \"likely\", \"protected\", \"fair\", \"agency\", \"islamophobia\", \"art\", \"possible\", \"relation\", \"risk\", \"common\", \"extended\", \"expression\", \"thus\", \"one\", \"anglican\", \"european\", \"sought\", \"opposition\", \"well\", \"national\", \"different\", \"demand\", \"research\", \"lester\", \"christian\", \"new\", \"ground\", \"house\", \"race\", \"support\", \"time\", \"briefing\", \"mcb\", \"whilst\", \"speech\", \"human\", \"including\", \"avebury\", \"word\", \"office\", \"parliament\", \"justice\", \"discrimination\", \"proposed\", \"racism\", \"concerned\", \"atcsb\", \"argued\", \"free\", \"mentioned\", \"additional\", \"abuse\", \"real\", \"based\", \"religious\", \"bill\", \"faith\", \"would\", \"aggravated\", \"need\", \"britain\", \"organisation\", \"racially\", \"suggested\", \"like\", \"existing\", \"bnp\", \"sikh\", \"jew\", \"protect\", \"international\", \"church\", \"anti\", \"paper\", \"made\", \"stir\", \"within\", \"way\", \"europe\", \"campaign\", \"state\", \"body\", \"exercise\", \"seek\", \"however\", \"criminal\", \"could\", \"blasphemy\", \"violence\", \"also\", \"proposal\", \"select\", \"key\", \"case\", \"far\", \"extension\", \"society\", \"towards\", \"system\", \"first\", \"uk\", \"response\", \"election\", \"strong\", \"bring\", \"safeguard\", \"mono\", \"eg\", \"framework\", \"motivated\", \"order\", \"insulting\", \"general\", \"publication\"], \"Freq\": [60.0, 53.0, 38.0, 35.0, 33.0, 33.0, 32.0, 30.0, 21.0, 19.0, 21.0, 19.0, 21.0, 18.0, 17.0, 15.0, 17.0, 16.0, 15.0, 15.0, 14.0, 16.0, 13.0, 12.0, 13.0, 14.0, 12.0, 12.0, 12.0, 11.0, 60.367780623976934, 33.04463710856324, 31.643450258704924, 29.54166998282323, 21.13454885867441, 20.433955429345144, 16.930988273308312, 15.529801404903242, 13.428021092463558, 8.523866937576237, 7.823273465539919, 6.422086487298692, 5.721492972349315, 5.721492972348187, 5.72149297234755, 5.7214929723473835, 5.020899430076155, 5.020899430075894, 5.020899430075705, 5.020899430075376, 5.020899430075353, 4.320305846403272, 4.3203058464027135, 4.320305846402629, 4.320305846402542, 4.320305846402247, 4.320305846401451, 3.6197121956014344, 3.619712195599076, 3.6197121955985168, 32.42575152692913, 20.679058002134568, 19.21072130513765, 15.539879549547614, 14.805711195277166, 14.805711195277148, 13.337374482167013, 11.869037761037122, 11.869037761037092, 8.19819589390449, 7.464027500462055, 5.995690673067436, 5.995690673066994, 5.261522227229018, 5.26152222722867, 5.261522227228414, 4.5273537452416, 4.527353745240325, 4.5273537452402675, 4.5273537452397274, 3.793185204637578, 3.7931852046372367, 3.7931852046357104, 3.793185204635605, 3.7931852046354995, 3.793185204634872, 3.7931852046347627, 3.793185204634718, 3.7931852046344483, 3.793185204633728, 37.91133606149157, 34.94758211224966, 14.201304358404572, 12.719427353885148, 8.273796263728878, 7.532857727283045, 7.5328577272828925, 7.532857727282883, 6.791919179160045, 6.050980614879469, 6.050980614879137, 6.050980614879071, 6.0509806148788945, 6.050980614878734, 5.31004202733091, 5.310042027330697, 5.3100420273306534, 5.310042027330435, 5.310042027330072, 5.310042027330034, 5.310042027329842, 5.310042027329491, 5.310042027329479, 4.569103404523927, 4.56910340452294, 4.569103404522896, 3.828164724550803, 3.828164724547263, 3.8281647245466117, 3.8281647245461192, 10.667841790474426, 10.667841790474313, 10.667841790474299, 9.914816504615322, 9.91481650461519, 9.161791213753633, 7.655740610904426, 7.65574061090435, 6.902715294122081, 6.90271529412187, 6.902715294121739, 6.149689961860727, 6.149689961860448, 6.149689961860088, 5.396664607310226, 5.39666460731016, 5.39666460731016, 5.396664607310129, 5.396664607309645, 5.396664607309628, 5.396664607309478, 4.643639218983986, 4.643639218983563, 4.643639218983519, 3.890613775892307, 3.8906137758921875, 3.8906137758920365, 3.8906137758919446, 3.8906137758908232, 3.890613775890503, 53.02673738159892, 19.019080967253405, 17.50762955875259, 16.751903853244446, 11.461823875350504, 9.194646701257174, 7.683195221689154, 6.927469466689344, 5.416017903939212, 5.416017903938618, 5.41601790393856, 4.660292078060551, 4.660292078060533, 4.660292078060498, 4.660292078060147, 4.66029207806, 3.904566197925126, 3.9045661979247526, 3.904566197924455, 3.9045661979238857, 3.1488402210786934, 3.1488402210708655, 3.1488402210677116, 3.1488402210675517, 3.148840221067024, 3.148840221065989, 3.1488402210656954, 3.148840221065356, 2.393114045469079, 2.393114045469079, 15.324367564080047, 12.28482044013106, 10.005160070456048, 9.245273272028493, 8.48538646735876, 6.96561283079232, 6.96561283079226, 6.965612830791847, 6.965612830791808, 6.2057259919270935, 6.205725991927078, 6.205725991926895, 5.445839131291509, 5.445839131291148, 5.4458391312911285, 5.445839131290561, 5.445839131290326, 4.685952237665309, 4.685952237665099, 4.6859522376647, 4.685952237664582, 4.685952237664364, 4.685952237664045, 3.9260652905449813, 3.9260652905446776, 3.926065290544268, 3.926065290544255, 3.926065290543468, 3.926065290542205, 3.166178248071577], \"Total\": [60.0, 53.0, 38.0, 35.0, 33.0, 33.0, 32.0, 30.0, 21.0, 19.0, 21.0, 19.0, 21.0, 18.0, 17.0, 15.0, 17.0, 16.0, 15.0, 15.0, 14.0, 16.0, 13.0, 12.0, 13.0, 14.0, 12.0, 12.0, 12.0, 11.0, 60.99175860757142, 33.66861515854035, 32.267428315202146, 30.16564805027064, 21.758526991973127, 21.05793357060881, 17.554966464437754, 16.153779622384278, 14.051999359985121, 9.147845420796461, 8.447252002390444, 7.046065167945254, 6.345471752511798, 6.345471752511882, 6.345471752511924, 6.345471752511934, 5.6448783389710515, 5.6448783389710675, 5.644878338971081, 5.644878338971104, 5.644878338971106, 4.944284928298036, 4.944284928298082, 4.94428492829808, 4.944284928298093, 4.944284928298106, 4.944284928298164, 4.243691522274998, 4.243691522275165, 4.243691522275203, 33.04413021053476, 21.297436760069726, 19.82910007884706, 16.158258375965303, 15.424090035431067, 15.42409003543107, 13.955753354423619, 12.487416673523288, 12.487416673523287, 8.816574972131429, 8.082406632120415, 6.614069952639485, 6.614069952639494, 5.879901613328343, 5.879901613328351, 5.8799016133283555, 5.145733274500062, 5.145733274500076, 5.14573327450008, 5.1457332745000945, 4.411564936454725, 4.411564936454735, 4.411564936454764, 4.41156493645477, 4.411564936454752, 4.411564936454779, 4.411564936454784, 4.411564936454773, 4.411564936454788, 4.4115649364547975, 38.52858576846062, 35.56483182839951, 14.818554248227686, 13.336677278267194, 8.891046368565188, 8.150107883665038, 8.15010788366504, 8.150107883665044, 7.409169398792255, 6.668230913957324, 6.668230913957332, 6.668230913957323, 6.668230913957326, 6.668230913957329, 5.927292429176919, 5.927292429176915, 5.927292429176918, 5.927292429176923, 5.927292429176919, 5.927292429176923, 5.927292429176925, 5.927292429176927, 5.927292429176923, 5.186353944479126, 5.186353944479136, 5.1863539444791344, 4.4454154599152735, 4.44541545991529, 4.445415459915302, 4.445415459915305, 11.28307630837239, 11.283076308372387, 11.283076308372388, 10.530051051532844, 10.530051051532842, 9.77702579460759, 8.270975280395174, 8.27097528039517, 7.517950023025864, 7.517950023025857, 7.517950023025861, 6.764924765391371, 6.764924765391372, 6.764924765391366, 6.0118995073750385, 6.011899507375037, 6.0118995073750385, 6.011899507375034, 6.01189950737503, 6.011899507375029, 6.011899507375026, 5.258874248780077, 5.258874248780072, 5.258874248780069, 4.505848989246892, 4.50584898924691, 4.505848989246907, 4.505848989246897, 4.505848989246886, 4.50584898924688, 53.6415213179994, 19.633865035091514, 18.122413644476037, 17.366687949141312, 12.076608080954436, 9.809430993715342, 8.297979601575367, 7.542253905178984, 6.030802511254644, 6.030802511254632, 6.0308025112546275, 5.275076813337813, 5.275076813337815, 5.275076813337816, 5.275076813337804, 5.275076813337803, 4.519351114257116, 4.519351114257109, 4.5193511142570975, 4.519351114257084, 3.7636254131018183, 3.7636254131016798, 3.763625413101627, 3.7636254131016127, 3.763625413101616, 3.7636254131015803, 3.763625413101598, 3.763625413101577, 3.0078997076828387, 3.0078997076828387, 15.938457851964488, 12.898910791326253, 10.61925049509729, 9.85936372944789, 9.099476963623172, 7.579703431209018, 7.579703431209017, 7.57970343120901, 7.579703431209008, 6.819816664423868, 6.819816664423866, 6.819816664423859, 6.05992989702726, 6.0599298970272475, 6.059929897027247, 6.059929897027235, 6.059929897027225, 5.3000431287040595, 5.300043128704054, 5.300043128704044, 5.300043128704041, 5.300043128704035, 5.300043128704029, 4.540156358878399, 4.540156358878398, 4.540156358878386, 4.540156358878383, 4.540156358878374, 4.540156358878337, 3.7802695863746067], \"Category\": [\"Default\", \"Default\", \"Default\", \"Default\", \"Default\", \"Default\", \"Default\", \"Default\", \"Default\", \"Default\", \"Default\", \"Default\", \"Default\", \"Default\", \"Default\", \"Default\", \"Default\", \"Default\", \"Default\", \"Default\", \"Default\", \"Default\", \"Default\", \"Default\", \"Default\", \"Default\", \"Default\", \"Default\", \"Default\", \"Default\", \"Topic1\", \"Topic1\", \"Topic1\", \"Topic1\", \"Topic1\", \"Topic1\", \"Topic1\", \"Topic1\", \"Topic1\", \"Topic1\", \"Topic1\", \"Topic1\", \"Topic1\", \"Topic1\", \"Topic1\", \"Topic1\", \"Topic1\", \"Topic1\", \"Topic1\", \"Topic1\", \"Topic1\", \"Topic1\", \"Topic1\", \"Topic1\", \"Topic1\", \"Topic1\", \"Topic1\", \"Topic1\", \"Topic1\", \"Topic1\", \"Topic2\", \"Topic2\", \"Topic2\", \"Topic2\", \"Topic2\", \"Topic2\", \"Topic2\", \"Topic2\", \"Topic2\", \"Topic2\", \"Topic2\", \"Topic2\", \"Topic2\", \"Topic2\", \"Topic2\", \"Topic2\", \"Topic2\", \"Topic2\", \"Topic2\", \"Topic2\", \"Topic2\", \"Topic2\", \"Topic2\", \"Topic2\", \"Topic2\", \"Topic2\", \"Topic2\", \"Topic2\", \"Topic2\", \"Topic2\", \"Topic3\", \"Topic3\", \"Topic3\", \"Topic3\", \"Topic3\", \"Topic3\", \"Topic3\", \"Topic3\", \"Topic3\", \"Topic3\", \"Topic3\", \"Topic3\", \"Topic3\", \"Topic3\", \"Topic3\", \"Topic3\", \"Topic3\", \"Topic3\", \"Topic3\", \"Topic3\", \"Topic3\", \"Topic3\", \"Topic3\", \"Topic3\", \"Topic3\", \"Topic3\", \"Topic3\", \"Topic3\", \"Topic3\", \"Topic3\", \"Topic4\", \"Topic4\", \"Topic4\", \"Topic4\", \"Topic4\", \"Topic4\", \"Topic4\", \"Topic4\", \"Topic4\", \"Topic4\", \"Topic4\", \"Topic4\", \"Topic4\", \"Topic4\", \"Topic4\", \"Topic4\", \"Topic4\", \"Topic4\", \"Topic4\", \"Topic4\", \"Topic4\", \"Topic4\", \"Topic4\", \"Topic4\", \"Topic4\", \"Topic4\", \"Topic4\", \"Topic4\", \"Topic4\", \"Topic4\", \"Topic5\", \"Topic5\", \"Topic5\", \"Topic5\", \"Topic5\", \"Topic5\", \"Topic5\", \"Topic5\", \"Topic5\", \"Topic5\", \"Topic5\", \"Topic5\", \"Topic5\", \"Topic5\", \"Topic5\", \"Topic5\", \"Topic5\", \"Topic5\", \"Topic5\", \"Topic5\", \"Topic5\", \"Topic5\", \"Topic5\", \"Topic5\", \"Topic5\", \"Topic5\", \"Topic5\", \"Topic5\", \"Topic5\", \"Topic5\", \"Topic6\", \"Topic6\", \"Topic6\", \"Topic6\", \"Topic6\", \"Topic6\", \"Topic6\", \"Topic6\", \"Topic6\", \"Topic6\", \"Topic6\", \"Topic6\", \"Topic6\", \"Topic6\", \"Topic6\", \"Topic6\", \"Topic6\", \"Topic6\", \"Topic6\", \"Topic6\", \"Topic6\", \"Topic6\", \"Topic6\", \"Topic6\", \"Topic6\", \"Topic6\", \"Topic6\", \"Topic6\", \"Topic6\", \"Topic6\"], \"logprob\": [30.0, 29.0, 28.0, 27.0, 26.0, 25.0, 24.0, 23.0, 22.0, 21.0, 20.0, 19.0, 18.0, 17.0, 16.0, 15.0, 14.0, 13.0, 12.0, 11.0, 10.0, 9.0, 8.0, 7.0, 6.0, 5.0, 4.0, 3.0, 2.0, 1.0, -2.4059, -3.0085, -3.0519, -3.1206, -3.4555, -3.4892, -3.6773, -3.7636, -3.9091, -4.3635, -4.4493, -4.6467, -4.7622, -4.7622, -4.7622, -4.7622, -4.8928, -4.8928, -4.8928, -4.8928, -4.8928, -5.0431, -5.0431, -5.0431, -5.0431, -5.0431, -5.0431, -5.22, -5.22, -5.22, -2.9195, -3.3693, -3.443, -3.655, -3.7034, -3.7034, -3.8079, -3.9245, -3.9245, -4.2945, -4.3884, -4.6074, -4.6074, -4.738, -4.738, -4.738, -4.8883, -4.8883, -4.8883, -4.8883, -5.0652, -5.0652, -5.0652, -5.0652, -5.0652, -5.0652, -5.0652, -5.0652, -5.0652, -5.0652, -2.7439, -2.8253, -3.7258, -3.836, -4.266, -4.3599, -4.3599, -4.3599, -4.4634, -4.5789, -4.5789, -4.5789, -4.5789, -4.5789, -4.7095, -4.7095, -4.7095, -4.7095, -4.7095, -4.7095, -4.7095, -4.7095, -4.7095, -4.8598, -4.8598, -4.8598, -5.0367, -5.0367, -5.0367, -5.0367, -3.9791, -3.9791, -3.9791, -4.0523, -4.0523, -4.1313, -4.3109, -4.3109, -4.4145, -4.4145, -4.4145, -4.53, -4.53, -4.53, -4.6606, -4.6606, -4.6606, -4.6606, -4.6606, -4.6606, -4.6606, -4.8109, -4.8109, -4.8109, -4.9878, -4.9878, -4.9878, -4.9878, -4.9878, -4.9878, -2.3685, -3.3939, -3.4767, -3.5208, -3.9003, -4.1207, -4.3003, -4.4038, -4.65, -4.65, -4.65, -4.8003, -4.8003, -4.8003, -4.8003, -4.8003, -4.9772, -4.9772, -4.9772, -4.9772, -5.1923, -5.1923, -5.1923, -5.1923, -5.1923, -5.1923, -5.1923, -5.1923, -5.4667, -5.4667, -3.5992, -3.8203, -4.0256, -4.1046, -4.1903, -4.3877, -4.3877, -4.3877, -4.3877, -4.5032, -4.5032, -4.5032, -4.6338, -4.6338, -4.6338, -4.6338, -4.6338, -4.7841, -4.7841, -4.7841, -4.7841, -4.7841, -4.7841, -4.961, -4.961, -4.961, -4.961, -4.961, -4.961, -5.1762], \"loglift\": [30.0, 29.0, 28.0, 27.0, 26.0, 25.0, 24.0, 23.0, 22.0, 21.0, 20.0, 19.0, 18.0, 17.0, 16.0, 15.0, 14.0, 13.0, 12.0, 11.0, 10.0, 9.0, 8.0, 7.0, 6.0, 5.0, 4.0, 3.0, 2.0, 1.0, 1.66, 1.6516, 1.6507, 1.6494, 1.6412, 1.6402, 1.6341, 1.6309, 1.6248, 1.5996, 1.5935, 1.5775, 1.5668, 1.5668, 1.5668, 1.5668, 1.5531, 1.5531, 1.5531, 1.5531, 1.5531, 1.5354, 1.5354, 1.5354, 1.5354, 1.5354, 1.5354, 1.5112, 1.5112, 1.5112, 1.7593, 1.7488, 1.7465, 1.7392, 1.7373, 1.7373, 1.7329, 1.7274, 1.7274, 1.7055, 1.6986, 1.6801, 1.6801, 1.6671, 1.6671, 1.6671, 1.6502, 1.6502, 1.6502, 1.6502, 1.6272, 1.6272, 1.6272, 1.6272, 1.6272, 1.6272, 1.6272, 1.6272, 1.6272, 1.6272, 1.7814, 1.78, 1.755, 1.7502, 1.7256, 1.7188, 1.7188, 1.7188, 1.7106, 1.7004, 1.7004, 1.7004, 1.7004, 1.7004, 1.6876, 1.6876, 1.6876, 1.6876, 1.6876, 1.6876, 1.6876, 1.6876, 1.6876, 1.6708, 1.6708, 1.6708, 1.6481, 1.6481, 1.6481, 1.6481, 1.7742, 1.7742, 1.7742, 1.7701, 1.7701, 1.7653, 1.753, 1.753, 1.7449, 1.7449, 1.7449, 1.735, 1.735, 1.735, 1.7223, 1.7223, 1.7223, 1.7223, 1.7223, 1.7223, 1.7223, 1.7059, 1.7059, 1.7059, 1.6835, 1.6835, 1.6835, 1.6835, 1.6835, 1.6835, 1.8258, 1.8055, 1.8028, 1.8013, 1.7851, 1.7726, 1.7604, 1.7523, 1.7298, 1.7298, 1.7298, 1.7134, 1.7134, 1.7134, 1.7134, 1.7134, 1.6911, 1.6911, 1.6911, 1.6911, 1.659, 1.659, 1.659, 1.659, 1.659, 1.659, 1.659, 1.659, 1.6087, 1.6087, 1.8087, 1.7992, 1.7884, 1.7837, 1.7781, 1.7635, 1.7635, 1.7635, 1.7635, 1.7536, 1.7536, 1.7536, 1.7411, 1.7411, 1.7411, 1.7411, 1.7411, 1.7248, 1.7248, 1.7248, 1.7248, 1.7248, 1.7248, 1.7027, 1.7027, 1.7027, 1.7027, 1.7027, 1.7027, 1.6707]}, \"token.table\": {\"Topic\": [4, 2, 2, 4, 2, 3, 5, 6, 1, 3, 2, 5, 4, 1, 3, 4, 4, 4, 2, 5, 6, 5, 5, 4, 6, 5, 1, 5, 6, 1, 4, 5, 2, 3, 3, 1, 4, 1, 6, 1, 2, 2, 6, 2, 2, 1, 3, 3, 4, 2, 1, 6, 6, 3, 1, 5, 3, 2, 2, 5, 5, 3, 3, 6, 3, 5, 6, 6, 6, 4, 1, 2, 6, 2, 4, 1, 2, 1, 3, 4, 6, 4, 1, 1, 4, 6, 5, 1, 3, 2, 5, 4, 6, 3, 1, 1, 2, 3, 5, 3, 2, 5, 2, 1, 4, 4, 1, 6, 6, 2, 2, 1, 3, 5, 4, 2, 4, 3, 3, 6, 5, 1, 5, 4, 1, 2, 3, 6, 4, 5, 3, 1, 3, 1, 6, 4, 1, 5, 4, 4, 1, 3, 2, 5, 2, 2, 3, 6, 2, 3, 3, 6, 5, 6, 1, 5, 6, 3, 4, 5, 2, 5, 6, 5, 4, 6, 2, 1, 3, 4, 6, 6, 6, 5, 3, 4, 1, 5, 4, 5], \"Freq\": [0.8877350327420883, 0.9067077233627864, 0.99020572809996, 0.8877350327420864, 0.971678812964856, 0.899788876153247, 0.910851782740858, 0.923518982441698, 0.8090148642337383, 0.8435554782800398, 0.9071570217677501, 0.8850828136325342, 0.9507738279081076, 0.8090148642337404, 0.8997888761532472, 0.9507738279081072, 0.8869278237498457, 0.8877350327420916, 0.9315154595992721, 0.9677157282094682, 0.9128378105291777, 0.947853496153403, 0.7971037684985024, 0.9672378079719973, 0.9433885495989526, 0.9640901019425505, 0.9683869254001717, 0.7971037684985017, 0.8797890464269357, 0.885758682429177, 0.974911424806873, 0.8850828136325318, 0.9609673732953316, 0.8435554782800413, 0.9862806859395986, 0.8857586824291724, 0.9507738279081062, 0.9838382248501539, 0.9416860450383775, 0.8857586824291745, 0.9067077233627807, 0.9725046965845713, 0.9303111087541812, 0.9067077233627858, 0.90670772336279, 0.9455561751771969, 0.899803412317332, 0.8998034123173354, 0.8316838952258444, 0.9067077233627877, 0.8515391011845689, 0.8810269259070542, 0.9433885495989502, 0.981582098567567, 0.9251352542058303, 0.7971037684984942, 0.8435554782800395, 0.9716788129648569, 0.9073818376509513, 0.6649157865508478, 0.9478534961534033, 0.8435554782800401, 0.8435554782800408, 0.8797890464269368, 0.9447752674059589, 0.9932451798707647, 0.879789046426936, 0.825092053037248, 0.8810269259070544, 0.8877350327420894, 0.8857586824291688, 0.9067077233627957, 0.8810269259070661, 0.9581877102061979, 0.9749114248068732, 0.9497608078655259, 0.9071570217677489, 0.9801412931481754, 0.8997816081900625, 0.9496630121792539, 0.9411199087966456, 0.886927823749845, 0.9945087189907345, 0.9425755804831567, 0.8869278237498449, 0.881026925907059, 0.8850828136325305, 0.8090148642337476, 0.8997888761532459, 0.8503543645468793, 0.9478534961534051, 0.8316838952258438, 0.9235189824416993, 0.984118248298633, 0.9425755804831649, 0.9917121280137422, 0.9716788129648534, 0.8998034123173291, 0.8290770574345697, 0.9815820985675667, 0.9725046965845712, 0.7971037684984513, 0.9067077233627827, 0.8090148642337266, 0.931104886113968, 0.8877350327420859, 0.9455561751771844, 0.9433885495989547, 0.8810269259070567, 0.8503543645468786, 0.8660786716893448, 0.9837394652947701, 0.9640684098165904, 0.9174844092145688, 0.9749114248068733, 0.9684019460072857, 0.8316838952258435, 0.8435554782800401, 0.964068409816592, 0.8810269259070573, 0.9281045279042331, 0.9425755804832022, 0.8850828136325367, 0.8316838952258432, 0.9455561751771765, 0.8503543645468804, 0.8997888761532468, 0.9235189824416982, 0.8316838952258445, 0.9478534961534052, 0.9815820985675663, 0.9904802698824005, 0.9447615310835342, 0.9470535504014941, 0.7935941951899497, 0.949663012179254, 0.9651388629270284, 0.8290770574345674, 0.831683895225845, 0.8877350327420906, 0.8090148642337401, 0.8997888761532464, 0.9860341522118105, 0.9880405830737665, 0.9067077233627846, 0.9609673732953314, 0.8998034123173296, 0.9433885495989492, 0.9716788129648596, 0.9747555353374392, 0.8435554782800406, 0.9433885495989537, 0.6649157865508478, 0.923518982441699, 0.8857586824291686, 0.9478534961534028, 0.8250920530372445, 0.8435554782800401, 0.9311048861139684, 0.797103768498498, 0.9067077233627935, 0.7971037684984806, 0.943388549598952, 0.829077057434569, 0.920525340637216, 0.8250920530372464, 0.9067077233627835, 0.9455561751771782, 0.8435554782800406, 0.9672378079719969, 0.8250920530372463, 0.8250920530372493, 0.8791714108383886, 0.7971037684984948, 0.96406840981659, 0.9311048861139689, 0.8090148642337361, 0.7971037684984918, 0.8316838952258432, 0.9788855566349114], \"Term\": [\"abuse\", \"abusive\", \"act\", \"additional\", \"adherent\", \"agency\", \"aggravated\", \"also\", \"amendment\", \"anglican\", \"anomaly\", \"anti\", \"argued\", \"argument\", \"art\", \"atcsb\", \"avebury\", \"based\", \"belief\", \"bill\", \"blasphemy\", \"bnp\", \"body\", \"briefing\", \"bring\", \"britain\", \"british\", \"campaign\", \"case\", \"change\", \"christian\", \"church\", \"committee\", \"common\", \"community\", \"concern\", \"concerned\", \"consortium\", \"could\", \"council\", \"court\", \"crime\", \"criminal\", \"criticism\", \"defined\", \"definition\", \"demand\", \"different\", \"discrimination\", \"discussion\", \"disorder\", \"eg\", \"election\", \"enforcement\", \"ethnic\", \"europe\", \"european\", \"even\", \"evidence\", \"exercise\", \"existing\", \"expression\", \"extended\", \"extension\", \"fair\", \"faith\", \"far\", \"first\", \"framework\", \"free\", \"freedom\", \"gap\", \"general\", \"government\", \"ground\", \"group\", \"harassment\", \"hatred\", \"home\", \"house\", \"however\", \"human\", \"incitement\", \"include\", \"including\", \"insulting\", \"international\", \"introduced\", \"islamophobia\", \"issue\", \"jew\", \"justice\", \"key\", \"law\", \"legal\", \"legislation\", \"legislative\", \"lester\", \"like\", \"likely\", \"lord\", \"made\", \"make\", \"many\", \"mcb\", \"mentioned\", \"minority\", \"mono\", \"motivated\", \"mp\", \"multi\", \"muslim\", \"national\", \"need\", \"new\", \"offence\", \"office\", \"one\", \"opposition\", \"order\", \"organisation\", \"others\", \"paper\", \"parliament\", \"particularly\", \"police\", \"possible\", \"proposal\", \"proposed\", \"protect\", \"protected\", \"protection\", \"provision\", \"public\", \"publication\", \"race\", \"racial\", \"racially\", \"racism\", \"real\", \"recommendation\", \"relation\", \"religion\", \"religious\", \"religiously\", \"report\", \"research\", \"response\", \"result\", \"right\", \"risk\", \"safeguard\", \"seek\", \"select\", \"significant\", \"sikh\", \"society\", \"sought\", \"speech\", \"state\", \"still\", \"stir\", \"strong\", \"suggested\", \"support\", \"system\", \"term\", \"therefore\", \"thus\", \"time\", \"towards\", \"uk\", \"violence\", \"way\", \"well\", \"whilst\", \"whole\", \"within\", \"word\", \"would\"]}, \"R\": 30, \"lambda.step\": 0.01, \"plot.opts\": {\"xlab\": \"PC1\", \"ylab\": \"PC2\"}, \"topic.order\": [1, 2, 3, 5, 6, 4]};\n",
       "\n",
       "function LDAvis_load_lib(url, callback){\n",
       "  var s = document.createElement('script');\n",
       "  s.src = url;\n",
       "  s.async = true;\n",
       "  s.onreadystatechange = s.onload = callback;\n",
       "  s.onerror = function(){console.warn(\"failed to load library \" + url);};\n",
       "  document.getElementsByTagName(\"head\")[0].appendChild(s);\n",
       "}\n",
       "\n",
       "if(typeof(LDAvis) !== \"undefined\"){\n",
       "   // already loaded: just create the visualization\n",
       "   !function(LDAvis){\n",
       "       new LDAvis(\"#\" + \"ldavis_el1258017172977284163971714840\", ldavis_el1258017172977284163971714840_data);\n",
       "   }(LDAvis);\n",
       "}else if(typeof define === \"function\" && define.amd){\n",
       "   // require.js is available: use it to load d3/LDAvis\n",
       "   require.config({paths: {d3: \"https://d3js.org/d3.v5\"}});\n",
       "   require([\"d3\"], function(d3){\n",
       "      window.d3 = d3;\n",
       "      LDAvis_load_lib(\"https://cdn.jsdelivr.net/gh/bmabey/pyLDAvis@3.3.1/pyLDAvis/js/ldavis.v3.0.0.js\", function(){\n",
       "        new LDAvis(\"#\" + \"ldavis_el1258017172977284163971714840\", ldavis_el1258017172977284163971714840_data);\n",
       "      });\n",
       "    });\n",
       "}else{\n",
       "    // require.js not available: dynamically load d3 & LDAvis\n",
       "    LDAvis_load_lib(\"https://d3js.org/d3.v5.js\", function(){\n",
       "         LDAvis_load_lib(\"https://cdn.jsdelivr.net/gh/bmabey/pyLDAvis@3.3.1/pyLDAvis/js/ldavis.v3.0.0.js\", function(){\n",
       "                 new LDAvis(\"#\" + \"ldavis_el1258017172977284163971714840\", ldavis_el1258017172977284163971714840_data);\n",
       "            })\n",
       "         });\n",
       "}\n",
       "</script>"
      ],
      "text/plain": [
       "PreparedData(topic_coordinates=              x         y  topics  cluster       Freq\n",
       "topic                                                \n",
       "0      0.111118  0.284174       1        1  18.819673\n",
       "1     -0.082007 -0.251527       2        1  16.893911\n",
       "2     -0.262372 -0.050785       3        1  16.570618\n",
       "4     -0.158811  0.178029       4        1  16.036456\n",
       "5      0.182984 -0.193996       5        1  15.924014\n",
       "3      0.209088  0.034105       6        1  15.755328, topic_info=            Term       Freq      Total Category  logprob  loglift\n",
       "752       muslim  60.000000  60.000000  Default  30.0000  30.0000\n",
       "963    religious  53.000000  53.000000  Default  29.0000  29.0000\n",
       "220    community  38.000000  38.000000  Default  28.0000  28.0000\n",
       "650          law  35.000000  35.000000  Default  27.0000  27.0000\n",
       "790      offence  33.000000  33.000000  Default  26.0000  26.0000\n",
       "..           ...        ...        ...      ...      ...      ...\n",
       "747    motivated   3.926065   4.540156   Topic6  -4.9610   1.7027\n",
       "809        order   3.926065   4.540156   Topic6  -4.9610   1.7027\n",
       "593    insulting   3.926065   4.540156   Topic6  -4.9610   1.7027\n",
       "500      general   3.926065   4.540156   Topic6  -4.9610   1.7027\n",
       "912  publication   3.166178   3.780270   Topic6  -5.1762   1.6707\n",
       "\n",
       "[210 rows x 6 columns], token_table=      Topic      Freq        Term\n",
       "term                             \n",
       "5         4  0.887735       abuse\n",
       "7         2  0.906708     abusive\n",
       "18        2  0.990206         act\n",
       "25        4  0.887735  additional\n",
       "30        2  0.971679    adherent\n",
       "...     ...       ...         ...\n",
       "1236      4  0.931105      whilst\n",
       "1237      1  0.809015       whole\n",
       "1243      5  0.797104      within\n",
       "1245      4  0.831684        word\n",
       "1251      5  0.978886       would\n",
       "\n",
       "[180 rows x 3 columns], R=30, lambda_step=0.01, plot_opts={'xlab': 'PC1', 'ylab': 'PC2'}, topic_order=[1, 2, 3, 5, 6, 4])"
      ]
     },
     "execution_count": 29,
     "metadata": {},
     "output_type": "execute_result"
    }
   ],
   "source": [
    "pyLDAvis.enable_notebook()\n",
    "panel = pyLDAvis.sklearn.prepare(lda_model, dtm, cv, mds='mmds')\n",
    "panel"
   ]
  },
  {
   "cell_type": "code",
   "execution_count": 25,
   "metadata": {},
   "outputs": [
    {
     "name": "stdout",
     "output_type": "stream",
     "text": [
      "Topic 1 ['muslim' 'hatred' 'legislation' 'british']\n",
      "Topic 2 ['religion' 'right' 'could' 'home']\n",
      "Topic 3 ['community' 'incitement' 'however' 'belief']\n",
      "Topic 4 ['protection' 'faith' 'would' 'lord']\n",
      "Topic 5 ['religious' 'offence' 'racial' 'group']\n",
      "Topic 6 ['law' 'government' 'bill' 'crime']\n"
     ]
    }
   ],
   "source": [
    "#  Define the number of Words that we want to print in every topic : n_top_words\n",
    "n_top_words = 5\n",
    "\n",
    "for i, topic_dist in enumerate(topic_words):\n",
    "    \n",
    "    # np.argsort to sorting an array or a list or the matrix acc to their values\n",
    "    sorted_topic_dist = np.argsort(topic_dist)\n",
    "    \n",
    "    # Next, to view the actual words present in those indexes we can make the use of the vocab created earlier\n",
    "    topic_words = np.array(vocab_tf_idf)[sorted_topic_dist]\n",
    "    \n",
    "    # so using the sorted_topic_indexes we ar extracting the words from the vocabulary\n",
    "    # obtaining topics + words\n",
    "    # this topic_words variable contains the Topics  as well as the respective words present in those Topics\n",
    "    topic_words = topic_words[:-n_top_words:-1]\n",
    "    print (\"Topic\", str(i+1), topic_words)"
   ]
  },
  {
   "cell_type": "code",
   "execution_count": null,
   "metadata": {},
   "outputs": [],
   "source": []
  }
 ],
 "metadata": {
  "kernelspec": {
   "display_name": "Python 3",
   "language": "python",
   "name": "python3"
  },
  "language_info": {
   "codemirror_mode": {
    "name": "ipython",
    "version": 3
   },
   "file_extension": ".py",
   "mimetype": "text/x-python",
   "name": "python",
   "nbconvert_exporter": "python",
   "pygments_lexer": "ipython3",
   "version": "3.8.8"
  }
 },
 "nbformat": 4,
 "nbformat_minor": 2
}
